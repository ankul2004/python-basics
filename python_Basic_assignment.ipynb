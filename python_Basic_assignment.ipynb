{
  "nbformat": 4,
  "nbformat_minor": 0,
  "metadata": {
    "colab": {
      "provenance": []
    },
    "kernelspec": {
      "name": "python3",
      "display_name": "Python 3"
    },
    "language_info": {
      "name": "python"
    }
  },
  "cells": [
    {
      "cell_type": "code",
      "execution_count": null,
      "metadata": {
        "id": "i7fT-gGhANDs"
      },
      "outputs": [],
      "source": []
    },
    {
      "cell_type": "markdown",
      "source": [],
      "metadata": {
        "id": "7Z3naOaWVqvf"
      }
    },
    {
      "cell_type": "markdown",
      "source": [],
      "metadata": {
        "id": "6DYzRrZ8Et7v"
      }
    },
    {
      "cell_type": "markdown",
      "source": [],
      "metadata": {
        "id": "EHnGspxjBKbp"
      }
    },
    {
      "cell_type": "markdown",
      "source": [
        "**Q.1- What is Python, and why is it popular ?**\n",
        "\n",
        "**Ans.-**Python is a high level,open source programming language .It was developed by GUIDO VAN ROSUM and released in 1991.\n",
        "The name 'Python' is a prefrence to the British Comedy Grey Monthy Python.\n",
        "\n",
        "Python is popular for -\n",
        "\n",
        "1.   **Easy to learn**\n",
        "2.   **Versatile**\n",
        "3.  **Community support**\n",
        "4.  **Carrier spport**\n",
        "5.  **Python has a lot of libraries.**\n",
        "\n",
        "**Q.2-What is an interpreter in Python?**\n",
        "\n",
        "**Ans.-** An interpreter in Python is a programme that reads and executes python code . It translate the code into machine-readable bytecode and then execute it line by line . This allows programmer to test and run their code immwdiately.\n",
        "\n",
        "**Q.3- What are pre-defined keywords in Python ?**\n",
        "\n",
        "**Ans.-** **Pre define keywords**\n",
        "\n",
        "*  Keywords are reserve words which have a specific meaning and that can not be used as identifiers(Variables Name, Function Name etc)  \n",
        "*   Keywords are case sensitive and can not be redefine and overridden in Python programme.\n",
        "*   Example- if, else, elif, try, true , false etc.\n",
        "\n",
        "**Q.4- Can keywords be used as variable names ?**\n",
        "\n",
        "**Ans.-** No keywords can not be used as variables names because it have specific meaning.\n",
        "\n",
        "**Q.5- What is mutability in Python ?**\n",
        "\n",
        "**Ans.-** In Python, Mutable object, such as list and dictonaries can be modified afer creation . It is called Mutability.\n",
        "\n",
        "**Q.6- Why are lists mutable, but tuples are immutable?**\n",
        "\n",
        "**Ans. -**The item in list can be modify, but the item in tuple can not be modified.\n",
        "\n",
        "\n",
        "**Q.7- What is the difference between “==” and “is” operators in Python ?**\n",
        "\n",
        "**Ans. -** '==' is a camparision operator. Which is used for camparision while 'is' is an identical operator.Which is used to check the indentity.\n",
        "\n",
        "\n",
        "**Q.8- What are logical operators in Python ?**\n",
        "\n",
        "**Ans. -** Logical operators are keyword which evaluate condition and produce boolean values.Logical operators are used in conditional statements. Logical operators are -- 'and' , 'or' , 'not' .\n",
        "\n",
        "\n",
        "**Q.9- What is type casting in Python ?**\n",
        "**Ans. - **Type casting, also referred to as type conversion.It is the process of changing one data type to another in Python.\n",
        "Python provides built-in functions for type casting, such as int(), float(), str(), list(), tuple(), dict(), etc.\n",
        "Type casting is often necessary for performing arithmetic operations, data manipulation, and input/output operations in Python programs.\n",
        "\n",
        "\n",
        "**Q.10- What is the difference between implicit and explicit type casting ?**\n",
        "\n",
        "**Ans.-** Implicit type casting is automatic while explicit type casting is manually.\n",
        "\n",
        "\n",
        "**Q.11- What is the purpose of conditional statements in Python ?**\n",
        "\n",
        "**Ans.-** Conditional statements in python control the flow of a program by executing code based on certain conditions.\n",
        "\n",
        "\n",
        "**Q.12- How does the elif statement work ?**\n",
        "**Ans.-**Elif  is used in conditional statements to check for multiple conditions. If the first condition is false , it moves on to the next \"elif\" statement to check if that condition is true.\n",
        "\n",
        "\n",
        "**Q.13- What is the difference between for and while loops?**\n",
        "\n",
        "**Ans.-**Afor loop in python repeats executing a code block from a sequence till certain number of time. whereas a while loop repeats execution of a code block till the condition is true .\n",
        "\n",
        "\n",
        "**Q.14- Describe a scenario where a while loop is more suitable than a for loop.**\n",
        "\n",
        "**Ans.-**Use the while loop when the increment value is nonstandard."
      ],
      "metadata": {
        "id": "-ncfK-KWAXD6"
      }
    },
    {
      "cell_type": "code",
      "source": [
        "#1 Write a Python program to print \"Hello, World!\n",
        "print(\"Hello, World!\")"
      ],
      "metadata": {
        "colab": {
          "base_uri": "https://localhost:8080/"
        },
        "id": "I4mTICeNXy60",
        "outputId": "b8c29400-ab7c-4799-e6b9-38bd87327fd2"
      },
      "execution_count": null,
      "outputs": [
        {
          "output_type": "stream",
          "name": "stdout",
          "text": [
            "Hello, World!\n"
          ]
        }
      ]
    },
    {
      "cell_type": "code",
      "source": [
        "#.2- Write a Python program that displays your name and age .\n",
        "name=input(\"Enter your name:\")\n",
        "age=int(input(\"Enter your age:\"))\n",
        "print(\"Name :\"+name,\"and\", \"Age :\"+str(age))"
      ],
      "metadata": {
        "id": "DQmgGIWUnpsf",
        "colab": {
          "base_uri": "https://localhost:8080/"
        },
        "outputId": "e0a40445-98c1-4844-f1aa-8543ec4cfc53"
      },
      "execution_count": null,
      "outputs": [
        {
          "output_type": "stream",
          "name": "stdout",
          "text": [
            "Enter your name:sgsggs\n",
            "Enter your age:27277\n",
            "Name :sgsggs and Age :27277\n"
          ]
        }
      ]
    },
    {
      "cell_type": "code",
      "source": [
        "# 3- Write code to print all the pre-defined keywords in Python using the\n",
        "# keyword library\n",
        "print(\"pre defined keywords in python are:\")\n",
        "import keyword\n",
        "print(keyword.kwlist)"
      ],
      "metadata": {
        "colab": {
          "base_uri": "https://localhost:8080/"
        },
        "id": "QrIaHwftbH8C",
        "outputId": "ef1f5d78-28df-4aee-eee3-915a83e92089"
      },
      "execution_count": null,
      "outputs": [
        {
          "output_type": "stream",
          "name": "stdout",
          "text": [
            "pre defined keywords in python are:\n",
            "['False', 'None', 'True', 'and', 'as', 'assert', 'async', 'await', 'break', 'class', 'continue', 'def', 'del', 'elif', 'else', 'except', 'finally', 'for', 'from', 'global', 'if', 'import', 'in', 'is', 'lambda', 'nonlocal', 'not', 'or', 'pass', 'raise', 'return', 'try', 'while', 'with', 'yield']\n"
          ]
        }
      ]
    },
    {
      "cell_type": "code",
      "source": [
        "#4 Write a program that checks if a given word is a Python keyword\n",
        "a=input(\"Enter a word:\")\n",
        "if a in keyword.kwlist:\n",
        "  print(a,\"is a keyword\")\n",
        "else:\n",
        "  print(a,\"is not a keyword\")\n",
        "\n",
        "\n"
      ],
      "metadata": {
        "colab": {
          "base_uri": "https://localhost:8080/"
        },
        "id": "ZIZI3epEcijA",
        "outputId": "8efe6ceb-f3fe-4883-8df2-5b16a513ab34"
      },
      "execution_count": null,
      "outputs": [
        {
          "output_type": "stream",
          "name": "stdout",
          "text": [
            "Enter a word:ram\n",
            "ram is not a keyword\n"
          ]
        }
      ]
    },
    {
      "cell_type": "code",
      "source": [
        "# 5 Create a list and tuple in Python, and demonstrate how attempting to\n",
        "#change an element works differently for each\n",
        "\n",
        "my_list = [1,2,3,4,5]\n",
        "my_tuple = (1,2,3,4,5)\n",
        "print(\"before changing list :\" ,my_list)\n",
        "my_list[1] = 0\n",
        "print(\"after changing list :\" ,my_list)\n",
        "print(\"\\nbefore changing tuple :\",my_tuple)\n",
        "temp_list=list(my_tuple)\n",
        "temp_list[4]=8\n",
        "my_tuple=tuple(temp_list)\n",
        "print(\"after changing tuple :\",my_tuple)\n"
      ],
      "metadata": {
        "colab": {
          "base_uri": "https://localhost:8080/"
        },
        "id": "lucA4-lKdmq-",
        "outputId": "1ed7da95-7491-45d2-fb20-1b14293287e9"
      },
      "execution_count": null,
      "outputs": [
        {
          "output_type": "stream",
          "name": "stdout",
          "text": [
            "before changing list : [1, 2, 3, 4, 5]\n",
            "after changing list : [1, 0, 3, 4, 5]\n",
            "\n",
            "before changing tuple : (1, 2, 3, 4, 5)\n",
            "after changing tuple : (1, 2, 3, 4, 8)\n"
          ]
        }
      ]
    },
    {
      "cell_type": "code",
      "source": [
        "#6 Write a function to demonstrate the behavior of mutable and\n",
        "# immutable argument\n",
        "def demonstrate_mutable_immutable(mutable_arg, immutable_arg):\n",
        "  print(\"Before modification:\")\n",
        "  print(\"Mutable argument :\",mutable_arg)\n",
        "  print(\"Immutable argument :\",immutable_arg)\n",
        "  mutable_arg.append(100)\n",
        "  immutable_arg += 5\n",
        "  print(\"\\nAfter modification:\")\n",
        "  print(\"Mutable argument :\",mutable_arg)\n",
        "  print(\"Immutable argument :\",immutable_arg)\n",
        "  mutable_arg = [1,2,3,4,5]\n",
        "  immutable_arg = 10\n",
        "  demonstrate_mutable_immutable(mutable_arg,immutable_arg)\n",
        "  print(\"\\nOutside the function:\")\n",
        "  print(\"Mutable argument:\", mutable_arg)\n",
        "  print(\"Immutable argument:\", immutable_arg)\n"
      ],
      "metadata": {
        "id": "mUS_mZhygvtf"
      },
      "execution_count": null,
      "outputs": []
    },
    {
      "cell_type": "code",
      "source": [
        "#7 Write a function to demonstrate the behavior of mutable and\n",
        "# immutable argument\n",
        "def demonstrate_mutable_immutable(mutable_arg, immutable_arg):\n",
        "  print(\"Before modification:\")\n",
        "  print(\"Mutable argument :\",mutable_arg)\n",
        "  print(\"Immutable argument :\",immutable_arg)\n",
        "  mutable_arg.append(100)\n",
        "  immutable_arg += 5\n",
        "  print(\"\\nAfter modification:\")\n",
        "  print(\"Mutable argument :\",mutable_arg)\n",
        "  print(\"Immutable argument :\",immutable_arg)\n",
        "  mutable_arg = [1,2,3,4,5]\n",
        "  immutable_arg = 10\n",
        "  demonstrate_mutable_immutable(mutable_arg,immutable_arg)\n",
        "  print(\"\\nOutside the function:\")\n",
        "  print(\"Mutable argument:\", mutable_arg)\n",
        "  print(\"Immutable argument:\", immutable_arg)"
      ],
      "metadata": {
        "id": "W0z3Hxev3T-Z"
      },
      "execution_count": null,
      "outputs": []
    },
    {
      "cell_type": "code",
      "source": [
        "# 8 Write a program to demonstrate the use of logical operators\n",
        "def logical_operator_demo(a,b):\n",
        "    print(f\"{a} and {b}={a and b}\")\n",
        "    print(f\"{a} or {b}={a or b}\")\n",
        "    print(f\" not {b}={not b}\")\n",
        "    print(f\" not {a}={not a}\")\n",
        "a=True\n",
        "b=False\n",
        "logical_operator_demo(a,b)\n",
        "\n"
      ],
      "metadata": {
        "colab": {
          "base_uri": "https://localhost:8080/"
        },
        "id": "BblY0rQmlM8C",
        "outputId": "97baa3a9-ef96-42bb-f00a-4020c6692b4e"
      },
      "execution_count": null,
      "outputs": [
        {
          "output_type": "stream",
          "name": "stdout",
          "text": [
            "True and False=False\n",
            "True or False=True\n",
            " not False=True\n",
            " not True=False\n"
          ]
        }
      ]
    },
    {
      "cell_type": "code",
      "source": [
        "#9 Write a Python program to convert user input from string to integer, float,\n",
        "# and boolean types\n",
        "value=input(\"Enter a value:\")\n",
        "integer_value=int(value)\n",
        "print(\"Integer :\",integer_value)\n",
        "float_value=float(value)\n",
        "print(\"Float :\",float_value)\n",
        "boolean_value=bool(value)\n",
        "print(\"Boolean :\",boolean_value)\n"
      ],
      "metadata": {
        "colab": {
          "base_uri": "https://localhost:8080/"
        },
        "id": "GfWbf9TeoaXw",
        "outputId": "93f69b7a-65c8-4a24-c421-2f5256d1575a"
      },
      "execution_count": null,
      "outputs": [
        {
          "output_type": "stream",
          "name": "stdout",
          "text": [
            "Enter a value:12\n",
            "Integer : 12\n",
            "Float : 12.0\n",
            "Boolean : True\n"
          ]
        }
      ]
    },
    {
      "cell_type": "code",
      "source": [
        "#10 Write code to demonstrate type casting with list elements\n",
        "def type_casting_demo():\n",
        "  mixed_list=['1','5.6',4,7.8]\n",
        "  print(\"Before type casting :\",mixed_list)\n",
        "  integer_list=[]\n",
        "  float_list=[]\n",
        "  for element in mixed_list:\n",
        "    try:\n",
        "     integer_list.append(int(element))\n",
        "    except ValueError:\n",
        "      pass\n",
        "    float_list.append(float(element))\n",
        "  print(\"\\nAfter type casting:\")\n",
        "  print(\"Integer list :\",integer_list)\n",
        "  print(\"Float list :\",float_list)\n",
        "type_casting_demo() # Fixed: Removed extra space before the function call"
      ],
      "metadata": {
        "colab": {
          "base_uri": "https://localhost:8080/"
        },
        "id": "ruwrqwNLs4Ry",
        "outputId": "b4585b82-8ab6-437d-aadd-483ffae8d9c1"
      },
      "execution_count": null,
      "outputs": [
        {
          "output_type": "stream",
          "name": "stdout",
          "text": [
            "Before type casting : ['1', '5.6', 4, 7.8]\n",
            "\n",
            "After type casting:\n",
            "Integer list : [1, 4, 7]\n",
            "Float list : [1.0, 5.6, 4.0, 7.8]\n"
          ]
        }
      ]
    },
    {
      "cell_type": "code",
      "source": [
        "#11 Write a program that checks if a number is positive, negative, or zero\n",
        "num=int(input(\"Enter a number:\"))\n",
        "if num>0:\n",
        "  print(\"Number is positive\")\n",
        "elif num<0:\n",
        "  print(\"Number is negative\")\n",
        "else:\n",
        "  print(\"Number is zero\")\n"
      ],
      "metadata": {
        "colab": {
          "base_uri": "https://localhost:8080/"
        },
        "id": "jUJhdeU2uPT8",
        "outputId": "fb4a8120-f812-44d2-8204-f8065a6c0932"
      },
      "execution_count": null,
      "outputs": [
        {
          "output_type": "stream",
          "name": "stdout",
          "text": [
            "Enter a number:65\n",
            "Number is positive\n"
          ]
        }
      ]
    },
    {
      "cell_type": "code",
      "source": [
        "#12 Write a for loop to print numbers from 1 to 10\n",
        "i=1\n",
        "n=10\n",
        "for i in range (i,n+1):\n",
        "  print(i,end=\",\")\n",
        "\n"
      ],
      "metadata": {
        "colab": {
          "base_uri": "https://localhost:8080/"
        },
        "id": "XYRTztqgvcoW",
        "outputId": "cf427b79-2a4c-4b81-a718-f48b2d75a340"
      },
      "execution_count": null,
      "outputs": [
        {
          "output_type": "stream",
          "name": "stdout",
          "text": [
            "1,2,3,4,5,6,7,8,9,10,"
          ]
        }
      ]
    },
    {
      "cell_type": "code",
      "source": [
        "#13 Write a Python program to find the sum of all even numbers between 1 and 50\n",
        "i=1\n",
        "n=50\n",
        "sum=0\n",
        "for i in range(i,n+1):\n",
        "  if i%2==0:\n",
        "   sum=sum+i\n",
        "print(\"The sum of even numbers between 1 and 50 :\",sum)"
      ],
      "metadata": {
        "colab": {
          "base_uri": "https://localhost:8080/"
        },
        "id": "hxo942gvwqke",
        "outputId": "45cf5baa-36e0-4635-ba2f-1f40d694eea2"
      },
      "execution_count": null,
      "outputs": [
        {
          "output_type": "stream",
          "name": "stdout",
          "text": [
            "The sum of even numbers between 1 and 50 : 650\n"
          ]
        }
      ]
    },
    {
      "cell_type": "code",
      "source": [
        "#14 Write a program to reverse a string using a while loop\n",
        "string=input(\"Enter the string :\")\n",
        "print(\"The srting before reverse :\",string)\n",
        "index=len(string)-1\n",
        "print(\"Index :\",index)\n",
        "print(\"The string after reverse :\",end=\"\")\n",
        "while index>=0:\n",
        "  print(string[index],end=\"\")\n",
        "  index=index-1\n",
        "\n"
      ],
      "metadata": {
        "colab": {
          "base_uri": "https://localhost:8080/"
        },
        "id": "kwXgwMD4x0_o",
        "outputId": "7df59f72-065c-4b63-89f9-cb10eb063523"
      },
      "execution_count": null,
      "outputs": [
        {
          "output_type": "stream",
          "name": "stdout",
          "text": [
            "Enter the string :mohit\n",
            "The srting before reverse : mohit\n",
            "Index : 4\n",
            "The string after reverse :tihom"
          ]
        }
      ]
    },
    {
      "cell_type": "code",
      "source": [
        "#15 Write a Python program to calculate the factorial of a number provided by the\n",
        "# user using a while loop\n",
        "a=int(input(\"Enter a number:\"))\n",
        "temp=a\n",
        "fact=1\n",
        "while temp>=1:\n",
        "  fact=fact*temp\n",
        "  temp=temp-1\n",
        "print(\"The factorial of\",a, \"=\",fact)"
      ],
      "metadata": {
        "colab": {
          "base_uri": "https://localhost:8080/"
        },
        "id": "x17tFai10CnN",
        "outputId": "26427d6d-e90b-4c9b-85de-4760dd419672"
      },
      "execution_count": null,
      "outputs": [
        {
          "output_type": "stream",
          "name": "stdout",
          "text": [
            "Enter a number:7\n",
            "The factorial of 7 = 5040\n"
          ]
        }
      ]
    }
  ]
}